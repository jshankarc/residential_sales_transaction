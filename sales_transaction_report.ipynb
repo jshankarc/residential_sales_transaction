{
 "metadata": {
  "language_info": {
   "codemirror_mode": {
    "name": "ipython",
    "version": 3
   },
   "file_extension": ".py",
   "mimetype": "text/x-python",
   "name": "python",
   "nbconvert_exporter": "python",
   "pygments_lexer": "ipython3",
   "version": "3.7.3-final"
  },
  "orig_nbformat": 2,
  "kernelspec": {
   "name": "python3",
   "display_name": "Python 3.7.3 64-bit",
   "metadata": {
    "interpreter": {
     "hash": "31f2aee4e71d21fbe5cf8b01ff0e069b9275f58929596ceb00d14d90e3e16cd6"
    }
   }
  }
 },
 "nbformat": 4,
 "nbformat_minor": 2,
 "cells": [
  {
   "source": [
    "# Sales Transaction Report - Transformation"
   ],
   "cell_type": "markdown",
   "metadata": {}
  },
  {
   "cell_type": "code",
   "execution_count": 1,
   "metadata": {},
   "outputs": [],
   "source": [
    "import pandas as pd\n",
    "import numpy as np"
   ]
  },
  {
   "source": [
    "## Custom Function"
   ],
   "cell_type": "markdown",
   "metadata": {}
  },
  {
   "cell_type": "code",
   "execution_count": 14,
   "metadata": {},
   "outputs": [],
   "source": [
    "def convert_object_to_cat_type(df, columns):\n",
    "  \"\"\"\n",
    "  Convert Object to Category datatype in pandas dataframe\n",
    "  \"\"\"\n",
    "  for col in columns:\n",
    "    df[col] = df[col].astype('category')"
   ]
  },
  {
   "cell_type": "code",
   "execution_count": 3,
   "metadata": {},
   "outputs": [],
   "source": [
    "def convert_dtype_to_float_type(df, columns):\n",
    "  \"\"\"\n",
    "  Convert object to float datatype in pandas dataframe\n",
    "  \"\"\"\n",
    "  for col in columns:\n",
    "    df[col] = df[col].astype(float)"
   ]
  },
  {
   "cell_type": "code",
   "execution_count": 4,
   "metadata": {},
   "outputs": [],
   "source": [
    "def convert_dtype_to_boolean_type(df, columns):\n",
    "  \"\"\"\n",
    "  Convert object to boolean datatype in pandas dataframe\n",
    "  \"\"\"\n",
    "  for col in columns:\n",
    "    df[col] = df[col].astype(bool)"
   ]
  },
  {
   "cell_type": "code",
   "execution_count": 5,
   "metadata": {},
   "outputs": [],
   "source": [
    "def map_boolean(df, columns):\n",
    "    \"\"\"\n",
    "    map yes/no to 1/0\n",
    "    \"\"\"\n",
    "    for col in columns:\n",
    "        df[col] = df[col].map(dict(Yes = 1, No = 0))"
   ]
  },
  {
   "cell_type": "code",
   "execution_count": 6,
   "metadata": {},
   "outputs": [],
   "source": [
    "def convert_custom_date(df, columns):\n",
    "    \"\"\"\n",
    "    input -  dd/mm/yyyy\n",
    "    output - dd-mm-yyyy\n",
    "    since already format of the date is corrent,\n",
    "    we will change '/' to '-'\n",
    "    \"\"\"\n",
    "    for col in columns:\n",
    "        df[col] = df[col].str.replace('/', '-', regex = True)"
   ]
  },
  {
   "source": [
    "## Read Data"
   ],
   "cell_type": "markdown",
   "metadata": {}
  },
  {
   "cell_type": "code",
   "execution_count": 7,
   "metadata": {},
   "outputs": [],
   "source": [
    "# https://stackoverflow.com/a/18172249 - encoding reference\n",
    "df = pd.read_csv('output/PPR-ALL.csv', encoding = \"ISO-8859-1\", names=['sales_date', 'address', 'postal_code', 'county', 'sales_value', 'not_full_market_price_ind', 'vat_exclusion_ind', 'property_desc', 'property_size_desc' ], nrows=20, skiprows=1)"
   ]
  },
  {
   "source": [
    "## Preprocessing data"
   ],
   "cell_type": "markdown",
   "metadata": {}
  },
  {
   "cell_type": "code",
   "execution_count": 43,
   "metadata": {},
   "outputs": [],
   "source": [
    "# remove unused columns\n",
    "df.drop(['address', 'postal_code', 'property_size_desc'], axis = 1, inplace = True)"
   ]
  },
  {
   "cell_type": "code",
   "execution_count": 8,
   "metadata": {},
   "outputs": [],
   "source": [
    "# remove starting special character and comma \n",
    "df.sales_value = df.sales_value.str.replace('[^\\d.]', '', regex = True)"
   ]
  },
  {
   "cell_type": "code",
   "execution_count": 9,
   "metadata": {},
   "outputs": [],
   "source": [
    "# convert object to float type\n",
    "convert_dtype_to_float_type(df, ['sales_value'])"
   ]
  },
  {
   "cell_type": "code",
   "execution_count": 10,
   "metadata": {},
   "outputs": [],
   "source": [
    "# map YES/NO to 1/0 type\n",
    "map_boolean(df, ['not_full_market_price_ind', 'vat_exclusion_ind'])"
   ]
  },
  {
   "cell_type": "code",
   "execution_count": 11,
   "metadata": {},
   "outputs": [],
   "source": [
    "# convert date to mm-dd-yyyy standard\n",
    "# function help us to handle the convertion as required\n",
    "convert_custom_date(df, ['sales_date'])"
   ]
  },
  {
   "cell_type": "code",
   "execution_count": 15,
   "metadata": {},
   "outputs": [],
   "source": [
    "# convert object to category type\n",
    "convert_object_to_cat_type(df, ['county'])"
   ]
  },
  {
   "cell_type": "code",
   "execution_count": 38,
   "metadata": {},
   "outputs": [],
   "source": [
    "# map new/second-hand properties to 1/0\n",
    "df['new_home_ind'] = df['property_desc'].map({'New Dwelling house /Apartment' : 1, 'Second-Hand Dwelling house /Apartment' : 0})"
   ]
  },
  {
   "cell_type": "code",
   "execution_count": 16,
   "metadata": {},
   "outputs": [
    {
     "output_type": "execute_result",
     "data": {
      "text/plain": [
       "sales_date                     object\n",
       "address                        object\n",
       "postal_code                   float64\n",
       "county                       category\n",
       "sales_value                   float64\n",
       "not_full_market_price_ind       int64\n",
       "vat_exclusion_ind               int64\n",
       "property_desc                  object\n",
       "property_size_desc             object\n",
       "dtype: object"
      ]
     },
     "metadata": {},
     "execution_count": 16
    }
   ],
   "source": [
    "df.dtypes"
   ]
  },
  {
   "cell_type": "code",
   "execution_count": null,
   "metadata": {},
   "outputs": [],
   "source": []
  }
 ]
}