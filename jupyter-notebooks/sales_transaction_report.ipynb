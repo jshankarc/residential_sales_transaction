{
 "cells": [
  {
   "cell_type": "markdown",
   "metadata": {},
   "source": [
    "# Sales Transaction Report - Transformation"
   ]
  },
  {
   "cell_type": "code",
   "execution_count": 1,
   "metadata": {},
   "outputs": [],
   "source": [
    "import pandas as pd\n",
    "import numpy as np"
   ]
  },
  {
   "cell_type": "markdown",
   "metadata": {},
   "source": [
    "## Custom Function"
   ]
  },
  {
   "cell_type": "code",
   "execution_count": 2,
   "metadata": {},
   "outputs": [],
   "source": [
    "def convert_object_to_cat_type(df, columns):\n",
    "  \"\"\"\n",
    "  Convert Object to Category datatype in pandas dataframe\n",
    "  \"\"\"\n",
    "  for col in columns:\n",
    "    df[col] = df[col].astype('category')"
   ]
  },
  {
   "cell_type": "code",
   "execution_count": 3,
   "metadata": {},
   "outputs": [],
   "source": [
    "def convert_dtype_to_float_type(df, columns):\n",
    "  \"\"\"\n",
    "  Convert object to float datatype in pandas dataframe\n",
    "  \"\"\"\n",
    "  for col in columns:\n",
    "    df[col] = df[col].astype(float)"
   ]
  },
  {
   "cell_type": "code",
   "execution_count": 4,
   "metadata": {},
   "outputs": [],
   "source": [
    "def convert_dtype_to_boolean_type(df, columns):\n",
    "  \"\"\"\n",
    "  Convert object to boolean datatype in pandas dataframe\n",
    "  \"\"\"\n",
    "  for col in columns:\n",
    "    df[col] = df[col].astype(bool)"
   ]
  },
  {
   "cell_type": "code",
   "execution_count": 5,
   "metadata": {},
   "outputs": [],
   "source": [
    "def map_boolean(df, columns):\n",
    "    \"\"\"\n",
    "    map yes/no to 1/0\n",
    "    \"\"\"\n",
    "    for col in columns:\n",
    "        df[col] = df[col].map(dict(Yes = 1, No = 0))"
   ]
  },
  {
   "cell_type": "code",
   "execution_count": 6,
   "metadata": {},
   "outputs": [],
   "source": [
    "def convert_custom_date(df, columns):\n",
    "    \"\"\"\n",
    "    input -  dd/mm/yyyy\n",
    "    output - dd-mm-yyyy\n",
    "    since already format of the date is corrent,\n",
    "    we will change '/' to '-'\n",
    "    \"\"\"\n",
    "    for col in columns:\n",
    "        df[col] = df[col].str.replace('/', '-', regex = True)"
   ]
  },
  {
   "cell_type": "code",
   "execution_count": 7,
   "metadata": {},
   "outputs": [],
   "source": [
    "def add_start_month(df, column_name, new_column_name):\n",
    "    \"\"\"\n",
    "    add month_start column based on the sales transaction date\n",
    "    \"\"\"\n",
    "    df[new_column_name] = df[column_name].apply(lambda x: '01' + x[2:10])\n",
    "        \n",
    "    return df "
   ]
  },
  {
   "cell_type": "code",
   "execution_count": 8,
   "metadata": {},
   "outputs": [],
   "source": [
    "# def check_quarantine_condition(df):\n",
    "#     # Irish county list\n",
    "#     irish_counties_list = ['galway', 'leitrim', 'mayo', 'roscommon', 'sligo', 'carlow', 'dublin', 'kildare', 'kilkenny', 'laois', 'longford', 'louth', 'meath', 'offaly', 'westmeath', 'wexford', 'wicklow', 'clare', 'cork', 'kerry',\n",
    "#         'limerick', 'tipperary', 'waterford', 'cavan', 'donegal', 'monaghan', 'antrim', 'armagh', 'down', 'fermanagh', 'londonderry', 'tyrone']\n",
    "#     df['quarantine_ind'] = df.county.str.lower().apply(lambda x: 0 if x in irish_counties_list else 1)\n",
    "#     df['quarantine_code'] = df.quarantine_ind.apply(lambda x: \"NOT IRISH COUNTIES\" if x == 1 else \"\")\n",
    "#     return df"
   ]
  },
  {
   "cell_type": "code",
   "execution_count": 9,
   "metadata": {},
   "outputs": [],
   "source": [
    " def check_quarantine_condition(df):\n",
    "        \"\"\"IRISH COUNTY CHECK and NEW HOME NOT FULL MARKET VALUE\n",
    "\n",
    "        Args:\n",
    "            df (Dataframe): Original Dataframe\n",
    "\n",
    "        Returns:\n",
    "            Dataframe: Updated Dataframe\n",
    "        \"\"\"\n",
    "\n",
    "        # Irish county list\n",
    "        irish_counties_list = ['galway', 'leitrim', 'mayo', 'roscommon', 'sligo', 'carlow', 'dublin', 'kildare', \n",
    "        'kilkenny', 'laois', 'longford', 'louth', 'meath', 'offaly', 'westmeath', 'wexford', \n",
    "        'wicklow', 'clare', 'cork', 'kerry','limerick', 'tipperary', 'waterford', 'cavan', 'donegal', \n",
    "        'monaghan', 'antrim', 'armagh', 'down', 'fermanagh', 'londonderry', 'tyrone']\n",
    "\n",
    "        \n",
    "        df['quarantine_ind'] = df.county.apply(lambda x: 0 if x in irish_counties_list else 1)\n",
    "        \n",
    "        df['quarantine_code'] = df.quarantine_ind.apply(lambda x: \"NOT IRISH COUNTIES\" if x == 1 else \"\")\n",
    "\n",
    "        df.loc[(\n",
    "                df['not_full_market_price_ind'] == 1) & \n",
    "                (df['vat_exclusion_ind'] == 1) & \n",
    "                (df['new_home_ind'] == 0), \n",
    "                ['quarantine_ind', 'quarantine_code']\n",
    "            ] = [1, 'NEW HOME NOT FULL MARKET VALUE']\n",
    "\n",
    "        return df  "
   ]
  },
  {
   "cell_type": "markdown",
   "metadata": {},
   "source": [
    "## Read Data"
   ]
  },
  {
   "cell_type": "code",
   "execution_count": 83,
   "metadata": {},
   "outputs": [],
   "source": [
    "# https://stackoverflow.com/a/18172249 - encoding reference\n",
    "df = pd.read_csv('PPR-ALL.csv', encoding = \"ISO-8859-1\", names=['sales_date', 'address', 'postal_code', 'county', 'sales_value', 'not_full_market_price_ind', 'vat_exclusion_ind', 'property_desc', 'property_size_desc' ],skiprows=1)"
   ]
  },
  {
   "cell_type": "markdown",
   "metadata": {},
   "source": [
    "## Preprocessing data"
   ]
  },
  {
   "cell_type": "code",
   "execution_count": 84,
   "metadata": {},
   "outputs": [],
   "source": [
    "# remove unused columns\n",
    "df.drop(['postal_code', 'property_size_desc'], axis = 1, inplace = True)"
   ]
  },
  {
   "cell_type": "code",
   "execution_count": 85,
   "metadata": {},
   "outputs": [],
   "source": [
    "df['address'] = df['address'].str.lower()\n",
    "df['county'] = df['county'].str.lower()"
   ]
  },
  {
   "cell_type": "code",
   "execution_count": 86,
   "metadata": {},
   "outputs": [],
   "source": [
    "# remove starting special character and comma \n",
    "df.sales_value = df.sales_value.str.replace('[^\\d.]', '', regex = True)"
   ]
  },
  {
   "cell_type": "code",
   "execution_count": 87,
   "metadata": {},
   "outputs": [],
   "source": [
    "# convert object to float type\n",
    "convert_dtype_to_float_type(df, ['sales_value'])"
   ]
  },
  {
   "cell_type": "code",
   "execution_count": 88,
   "metadata": {},
   "outputs": [],
   "source": [
    "# map YES/NO to 1/0 type\n",
    "map_boolean(df, ['not_full_market_price_ind', 'vat_exclusion_ind'])"
   ]
  },
  {
   "cell_type": "code",
   "execution_count": 89,
   "metadata": {},
   "outputs": [],
   "source": [
    "# convert date to mm-dd-yyyy standard\n",
    "# function help us to handle the convertion as required\n",
    "convert_custom_date(df, ['sales_date'])"
   ]
  },
  {
   "cell_type": "code",
   "execution_count": 90,
   "metadata": {},
   "outputs": [],
   "source": [
    "# convert object to category type\n",
    "convert_object_to_cat_type(df, ['county'])"
   ]
  },
  {
   "cell_type": "code",
   "execution_count": 91,
   "metadata": {},
   "outputs": [
    {
     "data": {
      "text/html": [
       "<div>\n",
       "<style scoped>\n",
       "    .dataframe tbody tr th:only-of-type {\n",
       "        vertical-align: middle;\n",
       "    }\n",
       "\n",
       "    .dataframe tbody tr th {\n",
       "        vertical-align: top;\n",
       "    }\n",
       "\n",
       "    .dataframe thead th {\n",
       "        text-align: right;\n",
       "    }\n",
       "</style>\n",
       "<table border=\"1\" class=\"dataframe\">\n",
       "  <thead>\n",
       "    <tr style=\"text-align: right;\">\n",
       "      <th></th>\n",
       "      <th>sales_date</th>\n",
       "      <th>address</th>\n",
       "      <th>county</th>\n",
       "      <th>sales_value</th>\n",
       "      <th>not_full_market_price_ind</th>\n",
       "      <th>vat_exclusion_ind</th>\n",
       "      <th>property_desc</th>\n",
       "    </tr>\n",
       "  </thead>\n",
       "  <tbody>\n",
       "  </tbody>\n",
       "</table>\n",
       "</div>"
      ],
      "text/plain": [
       "Empty DataFrame\n",
       "Columns: [sales_date, address, county, sales_value, not_full_market_price_ind, vat_exclusion_ind, property_desc]\n",
       "Index: []"
      ]
     },
     "execution_count": 91,
     "metadata": {},
     "output_type": "execute_result"
    }
   ],
   "source": [
    "df[df.isna().any(axis=1)]"
   ]
  },
  {
   "cell_type": "code",
   "execution_count": 92,
   "metadata": {},
   "outputs": [],
   "source": [
    "# map new/second-hand properties to 1/0\n",
    "df['new_home_ind'] = df['property_desc'].apply(lambda x : 1 if x == 'New Dwelling house /Apartment' else 0)"
   ]
  },
  {
   "cell_type": "code",
   "execution_count": 93,
   "metadata": {},
   "outputs": [],
   "source": [
    "## add_start_month\n",
    "df = add_start_month(df, 'sales_date', 'month_start')"
   ]
  },
  {
   "cell_type": "code",
   "execution_count": 195,
   "metadata": {},
   "outputs": [],
   "source": [
    "df = check_quarantine_condition(df)"
   ]
  },
  {
   "cell_type": "code",
   "execution_count": 94,
   "metadata": {},
   "outputs": [
    {
     "data": {
      "text/plain": [
       "sales_date                     object\n",
       "address                        object\n",
       "county                       category\n",
       "sales_value                   float64\n",
       "not_full_market_price_ind       int64\n",
       "vat_exclusion_ind               int64\n",
       "property_desc                  object\n",
       "new_home_ind                    int64\n",
       "month_start                    object\n",
       "dtype: object"
      ]
     },
     "execution_count": 94,
     "metadata": {},
     "output_type": "execute_result"
    }
   ],
   "source": [
    "df.dtypes"
   ]
  },
  {
   "cell_type": "code",
   "execution_count": 99,
   "metadata": {},
   "outputs": [],
   "source": [
    "data = {\n",
    "    'sales_date' : '01-01-2010',\n",
    "    'address' : 'asdasdas',\n",
    "    'county' : 'dublin',\n",
    "    'sales_value' : '343000',\n",
    "    'not_full_market_price_ind' : 1,\n",
    "    'vat_exclusion_ind' : 1,\n",
    "    'property_desc' : 'Second-Hand Dwelling house /Apartment\t',\n",
    "    'new_home_ind' : 0,\n",
    "    'month_start' : '01-01-2010\t',\n",
    "    'quarantine_ind' : '',\n",
    "    'quarantine_code' : '',\n",
    "}\n",
    "df = df.append(data, ignore_index=True)"
   ]
  },
  {
   "cell_type": "code",
   "execution_count": 100,
   "metadata": {},
   "outputs": [
    {
     "data": {
      "text/html": [
       "<div>\n",
       "<style scoped>\n",
       "    .dataframe tbody tr th:only-of-type {\n",
       "        vertical-align: middle;\n",
       "    }\n",
       "\n",
       "    .dataframe tbody tr th {\n",
       "        vertical-align: top;\n",
       "    }\n",
       "\n",
       "    .dataframe thead th {\n",
       "        text-align: right;\n",
       "    }\n",
       "</style>\n",
       "<table border=\"1\" class=\"dataframe\">\n",
       "  <thead>\n",
       "    <tr style=\"text-align: right;\">\n",
       "      <th></th>\n",
       "      <th>sales_date</th>\n",
       "      <th>address</th>\n",
       "      <th>county</th>\n",
       "      <th>sales_value</th>\n",
       "      <th>not_full_market_price_ind</th>\n",
       "      <th>vat_exclusion_ind</th>\n",
       "      <th>property_desc</th>\n",
       "      <th>new_home_ind</th>\n",
       "      <th>month_start</th>\n",
       "      <th>quarantine_code</th>\n",
       "      <th>quarantine_ind</th>\n",
       "    </tr>\n",
       "  </thead>\n",
       "  <tbody>\n",
       "    <tr>\n",
       "      <th>443487</th>\n",
       "      <td>01-01-2010</td>\n",
       "      <td>asdasdas</td>\n",
       "      <td>dublin</td>\n",
       "      <td>343000</td>\n",
       "      <td>1</td>\n",
       "      <td>1</td>\n",
       "      <td>Second-Hand Dwelling house /Apartment\\t</td>\n",
       "      <td>0</td>\n",
       "      <td>01-01-2010\\t</td>\n",
       "      <td></td>\n",
       "      <td></td>\n",
       "    </tr>\n",
       "  </tbody>\n",
       "</table>\n",
       "</div>"
      ],
      "text/plain": [
       "        sales_date   address  county sales_value  not_full_market_price_ind  \\\n",
       "443487  01-01-2010  asdasdas  dublin      343000                          1   \n",
       "\n",
       "        vat_exclusion_ind                            property_desc  \\\n",
       "443487                  1  Second-Hand Dwelling house /Apartment\\t   \n",
       "\n",
       "        new_home_ind   month_start quarantine_code quarantine_ind  \n",
       "443487             0  01-01-2010\\t                                 "
      ]
     },
     "execution_count": 100,
     "metadata": {},
     "output_type": "execute_result"
    }
   ],
   "source": [
    "df[(df['address'] == 'asdasdas')  ]"
   ]
  },
  {
   "cell_type": "code",
   "execution_count": 81,
   "metadata": {},
   "outputs": [
    {
     "ename": "AttributeError",
     "evalue": "'list' object has no attribute 'loc'",
     "output_type": "error",
     "traceback": [
      "\u001b[0;31m---------------------------------------------------------------------------\u001b[0m",
      "\u001b[0;31mAttributeError\u001b[0m                            Traceback (most recent call last)",
      "\u001b[0;32m<ipython-input-81-334eba3d7b6d>\u001b[0m in \u001b[0;36m<module>\u001b[0;34m\u001b[0m\n\u001b[1;32m      1\u001b[0m df = df.loc[((df['not_full_market_price_ind'] == 1) & \n\u001b[1;32m      2\u001b[0m                 (df['vat_exclusion_ind'] == 1)) &\n\u001b[0;32m----> 3\u001b[0;31m                 (df['new_home_ind'] == 0), ['quarantine_code']] = ['asdas']\n\u001b[0m",
      "\u001b[0;31mAttributeError\u001b[0m: 'list' object has no attribute 'loc'"
     ]
    }
   ],
   "source": [
    "df = df.loc[((df['not_full_market_price_ind'] == 1) & \n",
    "                (df['vat_exclusion_ind'] == 1)) &\n",
    "                (df['new_home_ind'] == 0), ['quarantine_code']] = ['asdas']\n"
   ]
  },
  {
   "cell_type": "code",
   "execution_count": 105,
   "metadata": {},
   "outputs": [
    {
     "data": {
      "text/html": [
       "<div>\n",
       "<style scoped>\n",
       "    .dataframe tbody tr th:only-of-type {\n",
       "        vertical-align: middle;\n",
       "    }\n",
       "\n",
       "    .dataframe tbody tr th {\n",
       "        vertical-align: top;\n",
       "    }\n",
       "\n",
       "    .dataframe thead th {\n",
       "        text-align: right;\n",
       "    }\n",
       "</style>\n",
       "<table border=\"1\" class=\"dataframe\">\n",
       "  <thead>\n",
       "    <tr style=\"text-align: right;\">\n",
       "      <th></th>\n",
       "      <th>sales_date</th>\n",
       "      <th>address</th>\n",
       "      <th>county</th>\n",
       "      <th>sales_value</th>\n",
       "      <th>not_full_market_price_ind</th>\n",
       "      <th>vat_exclusion_ind</th>\n",
       "      <th>property_desc</th>\n",
       "      <th>new_home_ind</th>\n",
       "      <th>month_start</th>\n",
       "      <th>quarantine_code</th>\n",
       "      <th>quarantine_ind</th>\n",
       "    </tr>\n",
       "  </thead>\n",
       "  <tbody>\n",
       "    <tr>\n",
       "      <th>443486</th>\n",
       "      <td>01-01-2010</td>\n",
       "      <td>ADFSDFASDF</td>\n",
       "      <td>dublin</td>\n",
       "      <td>343000</td>\n",
       "      <td>1</td>\n",
       "      <td>1</td>\n",
       "      <td>Second-Hand Dwelling house /Apartment\\t</td>\n",
       "      <td>0</td>\n",
       "      <td>01-01-2010\\t</td>\n",
       "      <td>NEW HOME asd VALUE</td>\n",
       "      <td>1</td>\n",
       "    </tr>\n",
       "    <tr>\n",
       "      <th>443487</th>\n",
       "      <td>01-01-2010</td>\n",
       "      <td>asdasdas</td>\n",
       "      <td>dublin</td>\n",
       "      <td>343000</td>\n",
       "      <td>1</td>\n",
       "      <td>1</td>\n",
       "      <td>Second-Hand Dwelling house /Apartment\\t</td>\n",
       "      <td>0</td>\n",
       "      <td>01-01-2010\\t</td>\n",
       "      <td>NEW HOME asd VALUE</td>\n",
       "      <td>1</td>\n",
       "    </tr>\n",
       "  </tbody>\n",
       "</table>\n",
       "</div>"
      ],
      "text/plain": [
       "        sales_date     address  county sales_value  not_full_market_price_ind  \\\n",
       "443486  01-01-2010  ADFSDFASDF  dublin      343000                          1   \n",
       "443487  01-01-2010    asdasdas  dublin      343000                          1   \n",
       "\n",
       "        vat_exclusion_ind                            property_desc  \\\n",
       "443486                  1  Second-Hand Dwelling house /Apartment\\t   \n",
       "443487                  1  Second-Hand Dwelling house /Apartment\\t   \n",
       "\n",
       "        new_home_ind   month_start     quarantine_code quarantine_ind  \n",
       "443486             0  01-01-2010\\t  NEW HOME asd VALUE              1  \n",
       "443487             0  01-01-2010\\t  NEW HOME asd VALUE              1  "
      ]
     },
     "execution_count": 105,
     "metadata": {},
     "output_type": "execute_result"
    }
   ],
   "source": [
    "df[((df['not_full_market_price_ind'] == 1) & \n",
    "                (df['vat_exclusion_ind'] == 1)) &\n",
    "                (df['new_home_ind'] == 0)]"
   ]
  },
  {
   "cell_type": "code",
   "execution_count": 19,
   "metadata": {
    "collapsed": true
   },
   "outputs": [
    {
     "ename": "NameError",
     "evalue": "name 'irish_counties_list' is not defined",
     "output_type": "error",
     "traceback": [
      "\u001b[0;31m---------------------------------------------------------------------------\u001b[0m",
      "\u001b[0;31mNameError\u001b[0m                                 Traceback (most recent call last)",
      "\u001b[0;32m<ipython-input-19-6dc639da411f>\u001b[0m in \u001b[0;36m<module>\u001b[0;34m\u001b[0m\n\u001b[0;32m----> 1\u001b[0;31m \u001b[0mdf\u001b[0m\u001b[0;34m.\u001b[0m\u001b[0mcounty\u001b[0m\u001b[0;34m.\u001b[0m\u001b[0mstr\u001b[0m\u001b[0;34m.\u001b[0m\u001b[0mlower\u001b[0m\u001b[0;34m(\u001b[0m\u001b[0;34m)\u001b[0m\u001b[0;34m.\u001b[0m\u001b[0mapply\u001b[0m\u001b[0;34m(\u001b[0m\u001b[0;32mlambda\u001b[0m \u001b[0mx\u001b[0m\u001b[0;34m:\u001b[0m \u001b[0;36m0\u001b[0m \u001b[0;32mif\u001b[0m \u001b[0mx\u001b[0m \u001b[0;32min\u001b[0m \u001b[0mirish_counties_list\u001b[0m \u001b[0;32melse\u001b[0m \u001b[0;36m1\u001b[0m\u001b[0;34m)\u001b[0m\u001b[0;34m\u001b[0m\u001b[0;34m\u001b[0m\u001b[0m\n\u001b[0m",
      "\u001b[0;32m~/projects/residential_sales_transaction/sales_tran/lib/python3.7/site-packages/pandas/core/series.py\u001b[0m in \u001b[0;36mapply\u001b[0;34m(self, func, convert_dtype, args, **kwds)\u001b[0m\n\u001b[1;32m   4210\u001b[0m             \u001b[0;32melse\u001b[0m\u001b[0;34m:\u001b[0m\u001b[0;34m\u001b[0m\u001b[0;34m\u001b[0m\u001b[0m\n\u001b[1;32m   4211\u001b[0m                 \u001b[0mvalues\u001b[0m \u001b[0;34m=\u001b[0m \u001b[0mself\u001b[0m\u001b[0;34m.\u001b[0m\u001b[0mastype\u001b[0m\u001b[0;34m(\u001b[0m\u001b[0mobject\u001b[0m\u001b[0;34m)\u001b[0m\u001b[0;34m.\u001b[0m\u001b[0m_values\u001b[0m\u001b[0;34m\u001b[0m\u001b[0;34m\u001b[0m\u001b[0m\n\u001b[0;32m-> 4212\u001b[0;31m                 \u001b[0mmapped\u001b[0m \u001b[0;34m=\u001b[0m \u001b[0mlib\u001b[0m\u001b[0;34m.\u001b[0m\u001b[0mmap_infer\u001b[0m\u001b[0;34m(\u001b[0m\u001b[0mvalues\u001b[0m\u001b[0;34m,\u001b[0m \u001b[0mf\u001b[0m\u001b[0;34m,\u001b[0m \u001b[0mconvert\u001b[0m\u001b[0;34m=\u001b[0m\u001b[0mconvert_dtype\u001b[0m\u001b[0;34m)\u001b[0m\u001b[0;34m\u001b[0m\u001b[0;34m\u001b[0m\u001b[0m\n\u001b[0m\u001b[1;32m   4213\u001b[0m \u001b[0;34m\u001b[0m\u001b[0m\n\u001b[1;32m   4214\u001b[0m         \u001b[0;32mif\u001b[0m \u001b[0mlen\u001b[0m\u001b[0;34m(\u001b[0m\u001b[0mmapped\u001b[0m\u001b[0;34m)\u001b[0m \u001b[0;32mand\u001b[0m \u001b[0misinstance\u001b[0m\u001b[0;34m(\u001b[0m\u001b[0mmapped\u001b[0m\u001b[0;34m[\u001b[0m\u001b[0;36m0\u001b[0m\u001b[0;34m]\u001b[0m\u001b[0;34m,\u001b[0m \u001b[0mSeries\u001b[0m\u001b[0;34m)\u001b[0m\u001b[0;34m:\u001b[0m\u001b[0;34m\u001b[0m\u001b[0;34m\u001b[0m\u001b[0m\n",
      "\u001b[0;32mpandas/_libs/lib.pyx\u001b[0m in \u001b[0;36mpandas._libs.lib.map_infer\u001b[0;34m()\u001b[0m\n",
      "\u001b[0;32m<ipython-input-19-6dc639da411f>\u001b[0m in \u001b[0;36m<lambda>\u001b[0;34m(x)\u001b[0m\n\u001b[0;32m----> 1\u001b[0;31m \u001b[0mdf\u001b[0m\u001b[0;34m.\u001b[0m\u001b[0mcounty\u001b[0m\u001b[0;34m.\u001b[0m\u001b[0mstr\u001b[0m\u001b[0;34m.\u001b[0m\u001b[0mlower\u001b[0m\u001b[0;34m(\u001b[0m\u001b[0;34m)\u001b[0m\u001b[0;34m.\u001b[0m\u001b[0mapply\u001b[0m\u001b[0;34m(\u001b[0m\u001b[0;32mlambda\u001b[0m \u001b[0mx\u001b[0m\u001b[0;34m:\u001b[0m \u001b[0;36m0\u001b[0m \u001b[0;32mif\u001b[0m \u001b[0mx\u001b[0m \u001b[0;32min\u001b[0m \u001b[0mirish_counties_list\u001b[0m \u001b[0;32melse\u001b[0m \u001b[0;36m1\u001b[0m\u001b[0;34m)\u001b[0m\u001b[0;34m\u001b[0m\u001b[0;34m\u001b[0m\u001b[0m\n\u001b[0m",
      "\u001b[0;31mNameError\u001b[0m: name 'irish_counties_list' is not defined"
     ]
    }
   ],
   "source": [
    "# df.county.str.lower().apply(lambda x: 0 if x in irish_counties_list else 1)"
   ]
  },
  {
   "cell_type": "code",
   "execution_count": 104,
   "metadata": {},
   "outputs": [],
   "source": [
    "df.loc[(df['not_full_market_price_ind'] == 1) & (df['vat_exclusion_ind'] == 1) & (df['new_home_ind'] == 0), ['quarantine_ind', 'quarantine_code']] = [1, 'NEW HOME asd VALUE']"
   ]
  },
  {
   "cell_type": "code",
   "execution_count": null,
   "metadata": {},
   "outputs": [],
   "source": []
  }
 ],
 "metadata": {
  "kernelspec": {
   "display_name": "Python 3",
   "language": "python",
   "name": "python3"
  },
  "language_info": {
   "codemirror_mode": {
    "name": "ipython",
    "version": 3
   },
   "file_extension": ".py",
   "mimetype": "text/x-python",
   "name": "python",
   "nbconvert_exporter": "python",
   "pygments_lexer": "ipython3",
   "version": "3.7.3"
  }
 },
 "nbformat": 4,
 "nbformat_minor": 2
}
